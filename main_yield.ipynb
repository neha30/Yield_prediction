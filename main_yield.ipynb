{
 "cells": [
  {
   "cell_type": "code",
   "execution_count": 7,
   "metadata": {
    "collapsed": true
   },
   "outputs": [],
   "source": [
    "import pandas as pd\n",
    "import matplotlib.pyplot as plt\n",
    "import numpy as np\n",
    "from sklearn import linear_model\n",
    "from sklearn.metrics import mean_squared_error\n",
    "from sklearn.feature_selection import RFE\n",
    "from sklearn.cross_validation import train_test_split\n",
    "from math import sqrt\n",
    "import math\n",
    "from numpy import mean"
   ]
  },
  {
   "cell_type": "code",
   "execution_count": 2,
   "metadata": {
    "collapsed": true
   },
   "outputs": [],
   "source": [
    "train=pd.read_csv('/home/neha/Desktop/jupiter/chemical_original.csv')"
   ]
  },
  {
   "cell_type": "code",
   "execution_count": 3,
   "metadata": {
    "collapsed": false
   },
   "outputs": [
    {
     "name": "stdout",
     "output_type": "stream",
     "text": [
      "       BiologicalMaterial01  BiologicalMaterial02  BiologicalMaterial03  \\\n",
      "count            176.000000            176.000000            176.000000   \n",
      "mean               6.411420             55.688750             67.705000   \n",
      "std                0.713923              4.034581              4.001064   \n",
      "min                4.580000             46.870000             56.970000   \n",
      "25%                5.977500             52.680000             64.980000   \n",
      "50%                6.305000             55.090000             67.220000   \n",
      "75%                6.870000             58.737500             70.427500   \n",
      "max                8.810000             64.750000             78.250000   \n",
      "\n",
      "       BiologicalMaterial04  BiologicalMaterial05  BiologicalMaterial06  \\\n",
      "count            176.000000            176.000000            176.000000   \n",
      "mean              12.349261             18.598636             48.910398   \n",
      "std                1.774661              1.844141              3.746072   \n",
      "min                9.380000             13.240000             40.600000   \n",
      "25%               11.245000             17.235000             46.055000   \n",
      "50%               12.100000             18.490000             48.460000   \n",
      "75%               13.220000             19.900000             51.345000   \n",
      "max               23.090000             24.850000             59.380000   \n",
      "\n",
      "       BiologicalMaterial07  BiologicalMaterial08  BiologicalMaterial09  \\\n",
      "count            176.000000            176.000000            176.000000   \n",
      "mean             100.014148             17.494773             12.850057   \n",
      "std                0.107742              0.676954              0.415176   \n",
      "min              100.000000             15.880000             11.440000   \n",
      "25%              100.000000             17.060000             12.602500   \n",
      "50%              100.000000             17.510000             12.835000   \n",
      "75%              100.000000             17.880000             13.130000   \n",
      "max              100.830000             19.140000             14.080000   \n",
      "\n",
      "       BiologicalMaterial10     ...      ManufacturingProcess37  \\\n",
      "count            176.000000     ...                  176.000000   \n",
      "mean               2.800625     ...                    1.013636   \n",
      "std                0.599143     ...                    0.445083   \n",
      "min                1.770000     ...                    0.000000   \n",
      "25%                2.460000     ...                    0.700000   \n",
      "50%                2.710000     ...                    1.000000   \n",
      "75%                2.990000     ...                    1.300000   \n",
      "max                6.870000     ...                    2.300000   \n",
      "\n",
      "       ManufacturingProcess38  ManufacturingProcess39  ManufacturingProcess40  \\\n",
      "count              176.000000              176.000000              175.000000   \n",
      "mean                 2.534091                6.851136                0.017714   \n",
      "std                  0.649375                1.505494                0.038289   \n",
      "min                  0.000000                0.000000                0.000000   \n",
      "25%                  2.000000                7.100000                0.000000   \n",
      "50%                  3.000000                7.200000                0.000000   \n",
      "75%                  3.000000                7.300000                0.000000   \n",
      "max                  3.000000                7.500000                0.100000   \n",
      "\n",
      "       ManufacturingProcess41  ManufacturingProcess42  ManufacturingProcess43  \\\n",
      "count              175.000000              176.000000              176.000000   \n",
      "mean                 0.023714               11.206250                0.911932   \n",
      "std                  0.053824                1.941609                0.867986   \n",
      "min                  0.000000                0.000000                0.000000   \n",
      "25%                  0.000000               11.400000                0.600000   \n",
      "50%                  0.000000               11.600000                0.800000   \n",
      "75%                  0.000000               11.700000                1.025000   \n",
      "max                  0.200000               12.100000               11.000000   \n",
      "\n",
      "       ManufacturingProcess44  ManufacturingProcess45       Yield  \n",
      "count              176.000000              176.000000  176.000000  \n",
      "mean                 1.805114                2.138068   40.176534  \n",
      "std                  0.322006                0.406904    1.845666  \n",
      "min                  0.000000                0.000000   35.250000  \n",
      "25%                  1.800000                2.100000   38.752500  \n",
      "50%                  1.900000                2.200000   39.970000  \n",
      "75%                  1.900000                2.300000   41.475000  \n",
      "max                  2.100000                2.600000   46.340000  \n",
      "\n",
      "[8 rows x 58 columns]\n",
      "BiologicalMaterial01      float64\n",
      "BiologicalMaterial02      float64\n",
      "BiologicalMaterial03      float64\n",
      "BiologicalMaterial04      float64\n",
      "BiologicalMaterial05      float64\n",
      "BiologicalMaterial06      float64\n",
      "BiologicalMaterial07      float64\n",
      "BiologicalMaterial08      float64\n",
      "BiologicalMaterial09      float64\n",
      "BiologicalMaterial10      float64\n",
      "BiologicalMaterial11      float64\n",
      "BiologicalMaterial12      float64\n",
      "ManufacturingProcess01    float64\n",
      "ManufacturingProcess02    float64\n",
      "ManufacturingProcess03    float64\n",
      "ManufacturingProcess04    float64\n",
      "ManufacturingProcess05    float64\n",
      "ManufacturingProcess06    float64\n",
      "ManufacturingProcess07    float64\n",
      "ManufacturingProcess08    float64\n",
      "ManufacturingProcess09    float64\n",
      "ManufacturingProcess10    float64\n",
      "ManufacturingProcess11    float64\n",
      "ManufacturingProcess12    float64\n",
      "ManufacturingProcess13    float64\n",
      "ManufacturingProcess14    float64\n",
      "ManufacturingProcess15      int64\n",
      "ManufacturingProcess16      int64\n",
      "ManufacturingProcess17    float64\n",
      "ManufacturingProcess18      int64\n",
      "ManufacturingProcess19      int64\n",
      "ManufacturingProcess20      int64\n",
      "ManufacturingProcess21    float64\n",
      "ManufacturingProcess22    float64\n",
      "ManufacturingProcess23    float64\n",
      "ManufacturingProcess24    float64\n",
      "ManufacturingProcess25    float64\n",
      "ManufacturingProcess26    float64\n",
      "ManufacturingProcess27    float64\n",
      "ManufacturingProcess28    float64\n",
      "ManufacturingProcess29    float64\n",
      "ManufacturingProcess30    float64\n",
      "ManufacturingProcess31    float64\n",
      "ManufacturingProcess32      int64\n",
      "ManufacturingProcess33    float64\n",
      "ManufacturingProcess34    float64\n",
      "ManufacturingProcess35    float64\n",
      "ManufacturingProcess36    float64\n",
      "ManufacturingProcess37    float64\n",
      "ManufacturingProcess38      int64\n",
      "ManufacturingProcess39    float64\n",
      "ManufacturingProcess40    float64\n",
      "ManufacturingProcess41    float64\n",
      "ManufacturingProcess42    float64\n",
      "ManufacturingProcess43    float64\n",
      "ManufacturingProcess44    float64\n",
      "ManufacturingProcess45    float64\n",
      "Yield                     float64\n",
      "dtype: object\n"
     ]
    }
   ],
   "source": [
    "#univariate analysis\n",
    "print train.describe()\n",
    "print train.dtypes"
   ]
  },
  {
   "cell_type": "code",
   "execution_count": 4,
   "metadata": {
    "collapsed": false
   },
   "outputs": [
    {
     "name": "stdout",
     "output_type": "stream",
     "text": [
      "BiologicalMaterial01       0\n",
      "BiologicalMaterial02       0\n",
      "BiologicalMaterial03       0\n",
      "BiologicalMaterial04       0\n",
      "BiologicalMaterial05       0\n",
      "BiologicalMaterial06       0\n",
      "BiologicalMaterial07       0\n",
      "BiologicalMaterial08       0\n",
      "BiologicalMaterial09       0\n",
      "BiologicalMaterial10       0\n",
      "BiologicalMaterial11       0\n",
      "BiologicalMaterial12       0\n",
      "ManufacturingProcess01     1\n",
      "ManufacturingProcess02     3\n",
      "ManufacturingProcess03    15\n",
      "ManufacturingProcess04     1\n",
      "ManufacturingProcess05     1\n",
      "ManufacturingProcess06     2\n",
      "ManufacturingProcess07     1\n",
      "ManufacturingProcess08     1\n",
      "ManufacturingProcess09     0\n",
      "ManufacturingProcess10     9\n",
      "ManufacturingProcess11    10\n",
      "ManufacturingProcess12     1\n",
      "ManufacturingProcess13     0\n",
      "ManufacturingProcess14     1\n",
      "ManufacturingProcess15     0\n",
      "ManufacturingProcess16     0\n",
      "ManufacturingProcess17     0\n",
      "ManufacturingProcess18     0\n",
      "ManufacturingProcess19     0\n",
      "ManufacturingProcess20     0\n",
      "ManufacturingProcess21     0\n",
      "ManufacturingProcess22     1\n",
      "ManufacturingProcess23     1\n",
      "ManufacturingProcess24     1\n",
      "ManufacturingProcess25     5\n",
      "ManufacturingProcess26     5\n",
      "ManufacturingProcess27     5\n",
      "ManufacturingProcess28     5\n",
      "ManufacturingProcess29     5\n",
      "ManufacturingProcess30     5\n",
      "ManufacturingProcess31     5\n",
      "ManufacturingProcess32     0\n",
      "ManufacturingProcess33     5\n",
      "ManufacturingProcess34     5\n",
      "ManufacturingProcess35     5\n",
      "ManufacturingProcess36     5\n",
      "ManufacturingProcess37     0\n",
      "ManufacturingProcess38     0\n",
      "ManufacturingProcess39     0\n",
      "ManufacturingProcess40     1\n",
      "ManufacturingProcess41     1\n",
      "ManufacturingProcess42     0\n",
      "ManufacturingProcess43     0\n",
      "ManufacturingProcess44     0\n",
      "ManufacturingProcess45     0\n",
      "Yield                      0\n",
      "dtype: int64\n"
     ]
    }
   ],
   "source": [
    "#--> check for missing values(first remove the missing values before bivariate analysis)\n",
    "print train.apply(lambda x: sum(x.isnull()))"
   ]
  },
  {
   "cell_type": "code",
   "execution_count": 8,
   "metadata": {
    "collapsed": true
   },
   "outputs": [],
   "source": [
    "missing=train.apply(lambda x: sum(x.isnull()))\n",
    "column_name=list(train.columns.values)\n",
    "\n",
    "for i,var in enumerate(column_name):\n",
    "\tif missing[i]!=0:\n",
    "\t\tm=mean(train[var])\n",
    "\t\ttrain[var].fillna(m,inplace='True')\n",
    "\n",
    "#-->check again for missing value(remove comment below to check)\n",
    "#print train.apply(lambda x: sum(x.isnull()))"
   ]
  },
  {
   "cell_type": "code",
   "execution_count": 9,
   "metadata": {
    "collapsed": false
   },
   "outputs": [
    {
     "name": "stdout",
     "output_type": "stream",
     "text": [
      "Correlation between manufacturing process variables and Yield:\n",
      "\n",
      "manufacturing Process 1  Yield:  -0.100937030519\n",
      "manufacturing Process 2  Yield:  -0.203495270395\n",
      "manufacturing Process 3  Yield:  -0.0877739042231\n",
      "manufacturing Process 4  Yield:  -0.26249432677\n",
      "manufacturing Process 5  Yield:  0.109925681804\n",
      "manufacturing Process 6  Yield:  0.387176994606\n",
      "manufacturing Process 7  Yield:  -0.0431539217217\n",
      "manufacturing Process 8  Yield:  0.0146365675819\n",
      "manufacturing Process 9  Yield:  0.503470506954\n",
      "manufacturing Process 10  Yield:  0.202517562412\n",
      "manufacturing Process 11  Yield:  0.323597422165\n",
      "manufacturing Process 12  Yield:  0.348286981922\n",
      "manufacturing Process 13  Yield:  -0.503679718409\n",
      "manufacturing Process 14  Yield:  -0.0059462861069\n",
      "manufacturing Process 15  Yield:  0.216187972072\n",
      "manufacturing Process 16  Yield:  -0.0373464549193\n",
      "manufacturing Process 17  Yield:  -0.425806871755\n",
      "manufacturing Process 18  Yield:  -0.0589292500071\n",
      "manufacturing Process 19  Yield:  0.134879045229\n",
      "manufacturing Process 20  Yield:  -0.0655114643845\n",
      "manufacturing Process 21  Yield:  -0.0258497507272\n",
      "manufacturing Process 22  Yield:  0.0169043159288\n",
      "manufacturing Process 23  Yield:  -0.0964919255345\n",
      "manufacturing Process 24  Yield:  -0.209357919411\n",
      "manufacturing Process 25  Yield:  0.00722633439206\n",
      "manufacturing Process 26  Yield:  0.0385666469195\n",
      "manufacturing Process 27  Yield:  0.00164779595763\n",
      "manufacturing Process 28  Yield:  0.262187810811\n",
      "manufacturing Process 29  Yield:  0.152757003579\n",
      "manufacturing Process 30  Yield:  0.230598749356\n",
      "manufacturing Process 31  Yield:  -0.0684350260422\n",
      "manufacturing Process 32  Yield:  0.608332149748\n",
      "manufacturing Process 33  Yield:  0.422723203669\n",
      "manufacturing Process 34  Yield:  0.173365191643\n",
      "manufacturing Process 35  Yield:  -0.173046206659\n",
      "manufacturing Process 36  Yield:  -0.524821783608\n",
      "manufacturing Process 37  Yield:  -0.1593141199\n",
      "manufacturing Process 38  Yield:  -0.0864592515532\n",
      "manufacturing Process 39  Yield:  0.0358658335494\n",
      "manufacturing Process 40  Yield:  -0.0467755126199\n",
      "manufacturing Process 41  Yield:  -0.0286836321397\n",
      "manufacturing Process 42  Yield:  -0.0134968427903\n",
      "manufacturing Process 43  Yield:  0.159268513493\n",
      "manufacturing Process 44  Yield:  0.0704975534558\n",
      "manufacturing Process 45  Yield:  0.0288162317135\n"
     ]
    }
   ],
   "source": [
    "#bivariate analysis\n",
    "\n",
    "#--->correlation cofficient between continuous-continuous attribute\n",
    "#we want to find the correlation between \"manufacturing process\" and \"yield\"\n",
    "x=train.iloc[:,12] \n",
    "y=train.iloc[:,-1]  #-->last column \n",
    "i=1\n",
    "print \"Correlation between manufacturing process variables and Yield:\\n\"\n",
    "for index in range(12,57):\n",
    "\tresult=np.corrcoef(train.iloc[:,index],y)\n",
    "\tprint \"manufacturing Process\",i,\" Yield: \",result[0][1]\n",
    "\ti=i+1\n",
    "    \n",
    "    "
   ]
  },
  {
   "cell_type": "code",
   "execution_count": 10,
   "metadata": {
    "collapsed": false
   },
   "outputs": [
    {
     "name": "stderr",
     "output_type": "stream",
     "text": [
      "/usr/lib/pymodules/python2.7/matplotlib/collections.py:548: FutureWarning: elementwise comparison failed; returning scalar instead, but in the future will perform elementwise comparison\n",
      "  if self._edgecolors == 'face':\n"
     ]
    }
   ],
   "source": [
    "#scatter plots between input and output variable\n",
    "plt.scatter(x,y,c=['r','b'])\n",
    "plt.xlabel('ManufacturingProcess01 (red points)')\n",
    "plt.ylabel('Yield(blue points)')\n",
    "plt.title('Manufacturing Process01 v/s yield')\n",
    "plt.show()\n"
   ]
  },
  {
   "cell_type": "code",
   "execution_count": 11,
   "metadata": {
    "collapsed": false
   },
   "outputs": [
    {
     "name": "stdout",
     "output_type": "stream",
     "text": [
      "24\n",
      "[ True False False  True False  True  True False  True  True False False\n",
      "  True False False False  True False False False False  True  True  True\n",
      "  True False False  True  True False  True  True  True False  True False\n",
      "  True False  True False False  True  True  True  True]\n"
     ]
    }
   ],
   "source": [
    "#feature selection(we are perfroming feature selection for \"manufacturing process\" variables)\n",
    "check_mp=train.iloc[:,range(12,58)]  #select all \"manufacturing process\" variable\n",
    "\n",
    "array=check_mp.values\n",
    "x=array[:,0:45]    # gives values from 0 to 44 index\n",
    "y=array[:,45]\n",
    "\n",
    "model=linear_model.BayesianRidge()\n",
    "\n",
    "rfe=RFE(model,24)\n",
    "fit=rfe.fit(x,y)\n",
    "print fit.n_features_\n",
    "result=fit.support_\n",
    "\n",
    "print result  #features which got selected by RFE are set to true\n"
   ]
  },
  {
   "cell_type": "code",
   "execution_count": 12,
   "metadata": {
    "collapsed": true
   },
   "outputs": [],
   "source": [
    "#add the index of attribute which we want to delete\n",
    "index=list()\n",
    "for i,val in enumerate(result):\n",
    "     if val==False:\n",
    "        index.append(i)\n",
    "\n",
    "# because we want to store the first 12 attribute as it is\n",
    "for i in range(len(index)):\n",
    "    index[i]=12+index[i]\n",
    "\n",
    "#drop the un-important attributes\n",
    "train.drop(train.columns[index],axis=1,inplace=True)"
   ]
  },
  {
   "cell_type": "code",
   "execution_count": 13,
   "metadata": {
    "collapsed": false
   },
   "outputs": [
    {
     "name": "stdout",
     "output_type": "stream",
     "text": [
      "predicted values:  [ 41.70742275  39.70803668  39.25053739  40.23178533  40.50085581\n",
      "  37.84658757  42.83831938  39.08014396  41.1699201   38.31483295\n",
      "  38.34657147  39.62742093  43.11635859  40.00272573  38.286707\n",
      "  39.45100447  41.02658435  38.96239892  38.85737945  40.99982983\n",
      "  41.40674191  43.13022306  42.92637678  40.14892879  40.03236615\n",
      "  40.57514131  40.07139209  39.38587649  40.40499716  40.3545658\n",
      "  35.9881061   39.96383241  38.90540335  42.77696398  41.87590762\n",
      "  42.7112743   39.76999272  39.69226607  38.42084408  40.88291938\n",
      "  43.00604655  41.47772895  39.21055174  40.38346107  39.1494426\n",
      "  39.27905444  38.77431203  39.47631214  40.2048771   41.30612587\n",
      "  38.5194175   39.20682238  42.81841076]\n",
      "\n",
      " correlation cofficient:\n",
      "  0.834959609435\n",
      "\n",
      " root mean square error:  0.998823531357\n"
     ]
    }
   ],
   "source": [
    "#apply model\n",
    "#total no. of columns\n",
    "no_columns=len(train.columns)\n",
    "\n",
    "#divide the data into train and test set\n",
    "x_train,x_test,y_train,y_test=train_test_split(train.iloc[:,range(no_columns-1)],train.iloc[:,-1],test_size=0.3,random_state=0)\n",
    "\n",
    "regr=linear_model.BayesianRidge(n_iter=500)\n",
    "regr.fit(x_train,y_train)\n",
    "\n",
    "predicted=regr.predict(x_test)\n",
    "corr=np.corrcoef(predicted,y_test)\n",
    "rms = sqrt(mean_squared_error(y_test, predicted))\n",
    "\n",
    "print \"predicted values: \", predicted\n",
    "print \"\\n correlation cofficient:\\n \",corr[0][1]\n",
    "print \"\\n root mean square error: \",rms"
   ]
  },
  {
   "cell_type": "code",
   "execution_count": 15,
   "metadata": {
    "collapsed": true
   },
   "outputs": [],
   "source": [
    "#graph showing relation between actual value and predicted value\n",
    "actual=np.array(y_test)\n",
    "x = range(1,len(y_test)+1)\n",
    "y = actual\n",
    "\n",
    "x2 = range(1,len(y_test)+1)\n",
    "y2 = predicted\n",
    "\n",
    "plt.plot(x, y, label='actual data')\n",
    "plt.plot(x2, y2, label='Predicted data')\n",
    "\n",
    "plt.xlabel('number of test data')\n",
    "plt.ylabel('output range')\n",
    "plt.title('actual data v/s Predicted data')\n",
    "plt.legend()\n",
    "plt.show()"
   ]
  },
  {
   "cell_type": "code",
   "execution_count": null,
   "metadata": {
    "collapsed": true
   },
   "outputs": [],
   "source": []
  }
 ],
 "metadata": {
  "kernelspec": {
   "display_name": "Python 2",
   "language": "python",
   "name": "python2"
  },
  "language_info": {
   "codemirror_mode": {
    "name": "ipython",
    "version": 2
   },
   "file_extension": ".py",
   "mimetype": "text/x-python",
   "name": "python",
   "nbconvert_exporter": "python",
   "pygments_lexer": "ipython2",
   "version": "2.7.6"
  }
 },
 "nbformat": 4,
 "nbformat_minor": 2
}
